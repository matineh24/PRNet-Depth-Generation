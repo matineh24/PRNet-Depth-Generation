{
 "cells": [
  {
   "cell_type": "code",
   "execution_count": 1,
   "metadata": {},
   "outputs": [],
   "source": [
    "import glob\n",
    "import os\n",
    "import sys\n",
    "\n",
    "import pandas as pd\n",
    "import cv2\n",
    "\n",
    "from PIL import Image\n",
    "import mediapipe as mp\n",
    "import numpy as np"
   ]
  },
  {
   "cell_type": "code",
   "execution_count": 2,
   "metadata": {},
   "outputs": [],
   "source": [
    "mp_face_mesh = mp.solutions.face_mesh\n",
    "mp_face_detection = mp.solutions.face_detection"
   ]
  },
  {
   "cell_type": "code",
   "execution_count": 3,
   "metadata": {},
   "outputs": [],
   "source": [
    "path_image = './test_images_self_created/'\n",
    "\n",
    "f = []\n",
    "folders = glob.glob(os.path.join(path_image, '*'))"
   ]
  },
  {
   "cell_type": "code",
   "execution_count": 49,
   "metadata": {},
   "outputs": [],
   "source": [
    "for f in folders:\n",
    "    name_pure = os.path.split(f)[1]\n",
    "    files = glob.glob(os.path.join(f, '*'))\n",
    "    for file in files:\n",
    "        if not 'scene' in os.path.split(file)[1]:\n",
    "            os.remove(file)"
   ]
  },
  {
   "cell_type": "code",
   "execution_count": 6,
   "metadata": {},
   "outputs": [],
   "source": [
    "for f in folders:\n",
    "    name_pure = os.path.split(f)[1]\n",
    "    files = glob.glob(os.path.join(f, '*'))\n",
    "    for file in files:\n",
    "        try:\n",
    "            file_name = os.path.split(file)[1].split('scene')[0]\n",
    "            with Image.open(file) as image:\n",
    "                    image = np.array(image)\n",
    "                    ih, iw, ic = image.shape\n",
    "\n",
    "                    with mp_face_mesh.FaceMesh( static_image_mode=True, max_num_faces=2, min_detection_confidence=0.5) as face_mesh:\n",
    "                        results = face_mesh.process(cv2.cvtColor(image, cv2.COLOR_BGR2RGB))\n",
    "\n",
    "                    with mp_face_detection.FaceDetection(min_detection_confidence=0.5) as face_detection:\n",
    "                        face_detected = face_detection.process(cv2.cvtColor(image, cv2.COLOR_BGR2RGB))\n",
    "\n",
    "                    if not results.multi_face_landmarks or not face_detected.detections:\n",
    "                        continue\n",
    "\n",
    "\n",
    "                    face_point = face_detected.detections[0].location_data.relative_bounding_box  # ['relative_bounding_box']\n",
    "                    # Extracting the coordinates for face bounding box\n",
    "                    x = int(face_point.xmin * iw) - 30\n",
    "                    y = int(face_point.ymin * ih) - 100\n",
    "                    w = int(face_point.width * iw) + 60\n",
    "                    h = int(face_point.height * ih) + 100\n",
    "                    x2 = x + w \n",
    "                    y2 = y + h\n",
    "\n",
    "                    image = Image.fromarray(image)\n",
    "\n",
    "                    region=image.crop([x,y,x2,y2])\n",
    "                    region = region.resize((300,300))\n",
    "\n",
    "                    region.save(file)\n",
    "        except:\n",
    "            print(f)\n",
    "            print(file)\n",
    "            continue\n"
   ]
  },
  {
   "cell_type": "code",
   "execution_count": null,
   "metadata": {},
   "outputs": [],
   "source": []
  }
 ],
 "metadata": {
  "kernelspec": {
   "display_name": "Python 3",
   "language": "python",
   "name": "python3"
  },
  "language_info": {
   "codemirror_mode": {
    "name": "ipython",
    "version": 3
   },
   "file_extension": ".py",
   "mimetype": "text/x-python",
   "name": "python",
   "nbconvert_exporter": "python",
   "pygments_lexer": "ipython3",
   "version": "3.7.4"
  }
 },
 "nbformat": 4,
 "nbformat_minor": 2
}
